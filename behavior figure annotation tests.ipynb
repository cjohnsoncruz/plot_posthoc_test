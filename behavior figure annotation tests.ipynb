{
 "cells": [
  {
   "cell_type": "markdown",
   "metadata": {},
   "source": [
    "# Figure 1/2: Analysis & Figure Generation Code\n",
    "#### Contents Description:\n",
    "Contains analysis and code producing figures used in: \n",
    "Figure 1: I, J, K\n",
    "Figure 2: B, C\n",
    "\n",
    "#### Run Order\n",
    "- Environment and Imports\n",
    "- Config (paths, parameters)\n",
    "- Load Data\n",
    "- Process Data\n",
    "- Figure 1 (I, J, K)\n",
    "- Figure 2 (B, C)\n",
    "- Save Figures and Tables"
   ]
  },
  {
   "cell_type": "markdown",
   "metadata": {},
   "source": [
    "#### Environment & Imports Setup"
   ]
  },
  {
   "cell_type": "code",
   "execution_count": 21,
   "metadata": {},
   "outputs": [
    {
     "data": {
      "text/plain": [
       "{'repo_root': 'c:\\\\Users\\\\13car\\\\Dropbox\\\\local_github_repos_personal\\\\plot_posthoc_test',\n",
       " 'function_py_storage': 'c:\\\\Users\\\\13car\\\\Dropbox\\\\local_github_repos_personal\\\\plot_posthoc_test\\\\Function .py Storage',\n",
       " 'plot_posthoc_src': 'c:\\\\Users\\\\13car\\\\Dropbox\\\\local_github_repos_personal\\\\plot_posthoc_test\\\\Function .py Storage\\\\plot_posthoc_test\\\\src',\n",
       " 'added_function_py_storage': 'False',\n",
       " 'added_plot_posthoc_src': 'False'}"
      ]
     },
     "execution_count": 21,
     "metadata": {},
     "output_type": "execute_result"
    }
   ],
   "source": [
    "\n",
    "import os\n",
    "import sys\n",
    "from typing import Dict\n",
    "\n",
    "def _add_path(path: str) -> bool:\n",
    "    if os.path.isdir(path) and path not in sys.path:\n",
    "        sys.path.append(path)\n",
    "        return True\n",
    "    return False\n",
    "\n",
    "def setup() -> Dict[str, str]:\n",
    "    \"\"\"Add project-local paths to sys.path for robust imports.\n",
    "    Returns a dict of important resolved paths for convenience/logging.\n",
    "    \"\"\"\n",
    "    here = os.path.dirname(os.path.abspath(__file__))\n",
    "\n",
    "    func_storage = os.path.join(here, 'Function .py Storage')\n",
    "    plot_posthoc_src = os.path.join(here, 'src')\n",
    "\n",
    "    added_func = _add_path(func_storage)\n",
    "    added_posthoc = _add_path(plot_posthoc_src)\n",
    "\n",
    "    return {\n",
    "        'repo_root': here,\n",
    "        'function_py_storage': func_storage,\n",
    "        'plot_posthoc_src': plot_posthoc_src,\n",
    "        'added_function_py_storage': str(added_func),\n",
    "        'added_plot_posthoc_src': str(added_posthoc),\n",
    "    }\n",
    "import notebook_setup\n",
    "info = notebook_setup.setup()\n",
    "info"
   ]
  },
  {
   "cell_type": "code",
   "execution_count": 22,
   "metadata": {},
   "outputs": [
    {
     "name": "stdout",
     "output_type": "stream",
     "text": [
      "matplotlib 3.7.0 | Seaborn 0.12.1\n",
      "Loading style guide at c:\\Users\\13car\\Dropbox\\local_github_repos_personal\\plot_posthoc_test\\Function .py Storage\\paper_plot.mplstyle\n",
      " Here: c:\\Users\\13car\\Dropbox\\local_github_repos_personal\\plot_posthoc_test\n",
      "✓ Package loaded! Version: 0.0.1\n"
     ]
    }
   ],
   "source": [
    "from pathlib import Path\n",
    "import os\n",
    "import notebook_setup\n",
    "info = notebook_setup.setup()\n",
    "# Environment & Imports Setup\n",
    "import matplotlib as matplotlib\n",
    "import matplotlib.pyplot as plt\n",
    "import seaborn as sns\n",
    "import numpy as np\n",
    "import warnings\n",
    "import pandas as pd\n",
    "import random\n",
    "import pingouin as png\n",
    "import mat73\n",
    "## set options\n",
    "%matplotlib inline \n",
    "print(f\"matplotlib {matplotlib.__version__} | Seaborn {sns.__version__}\")\n",
    "warnings.filterwarnings(action='ignore', category=FutureWarning)\n",
    "pd.set_option('mode.use_inf_as_na', False) # pd.set_option('future.no_silent_downcasting', True)\n",
    "#set seed for reproducibility \n",
    "np.random.seed(1)\n",
    "random.seed(1)\n",
    "# Apply mplstyle via absolute path from setup info\n",
    "style_path = Path(info[\"function_py_storage\"]) / \"paper_plot.mplstyle\"\n",
    "print(f\"Loading style guide at {style_path}\")\n",
    "if style_path.is_file():\n",
    "    plt.style.use(str(style_path))\n",
    "else:\n",
    "    print(f\"[warn] Style not found at: {style_path}\")\n",
    "here = info[\"repo_root\"]\n",
    "print(f\" Here: {here}\")\n",
    "_plot_posthoc_src = os.path.join(here, 'plot_posthoc_test', 'src')\n",
    "if os.path.isdir(_plot_posthoc_src) and _plot_posthoc_src not in sys.path:\n",
    "    sys.path.append(_plot_posthoc_src)\n",
    "#custom function import\n",
    "# import custom_module_imports as cmi \n",
    "from preprocess_data import hyper_param_dict\n",
    "from ax_modifier_functions import set_ax_title_xlabel_ylabel, set_pointplot_edgecolor, set_labels\n",
    "from sns_plotting_config import * #import dicts containing default plot params\n",
    "import plot_posthoc_test as ppt\n",
    "print(f\"✓ Package loaded! Version: {ppt.__version__}\")\n",
    "\n",
    "data_location = Path(r\"C:\\Users\\13car\\Dropbox\\local_github_repos_personal\\dlx56_mPFC_1p_SohalLab\\data\")\n"
   ]
  },
  {
   "cell_type": "markdown",
   "metadata": {},
   "source": [
    "#### Figure 1 Behavior Analysis"
   ]
  },
  {
   "cell_type": "code",
   "execution_count": 23,
   "metadata": {
    "colab": {
     "base_uri": "https://localhost:8080/",
     "height": 1000
    },
    "id": "0HhwPKRNSpEX",
    "outputId": "6f6c6011-73fa-457e-dde6-0080d3ac46a0"
   },
   "outputs": [
    {
     "name": "stdout",
     "output_type": "stream",
     "text": [
      "['DOB', 'Age-Run1', 'Date run - VEH', 'Run1 - # Cells', 'RS TTC > IA TTC', 'Date run - CLZ', 'Run2 - # Cells', 'CLNZ RS TTC < VEH RS TTC', 'Date run - POST', 'Run3 # Cells']\n"
     ]
    },
    {
     "data": {
      "text/html": [
       "<div>\n",
       "<style scoped>\n",
       "    .dataframe tbody tr th:only-of-type {\n",
       "        vertical-align: middle;\n",
       "    }\n",
       "\n",
       "    .dataframe tbody tr th {\n",
       "        vertical-align: top;\n",
       "    }\n",
       "\n",
       "    .dataframe thead th {\n",
       "        text-align: right;\n",
       "    }\n",
       "</style>\n",
       "<table border=\"1\" class=\"dataframe\">\n",
       "  <thead>\n",
       "    <tr style=\"text-align: right;\">\n",
       "      <th></th>\n",
       "      <th>Mouse ID</th>\n",
       "      <th>Geno</th>\n",
       "      <th>Sex</th>\n",
       "      <th>IA_TTC_VEH</th>\n",
       "      <th>RS_TTC_VEH</th>\n",
       "      <th>IA_Errors_VEH</th>\n",
       "      <th>RS_Errors_VEH</th>\n",
       "      <th>IA_TTC_CLNZ</th>\n",
       "      <th>RS_TTC_CLNZ</th>\n",
       "      <th>IA_Errors_CLNZ</th>\n",
       "      <th>RS_Errors_CLNZ</th>\n",
       "      <th>IA_TTC_postCLNZ</th>\n",
       "      <th>RS_TTC_postCLNZ</th>\n",
       "      <th>IA_Errors_postCLNZ</th>\n",
       "      <th>RS_Errors_postCLNZ</th>\n",
       "      <th>Age on Day 1-VEH</th>\n",
       "      <th>Age on Day 2-CLNZ</th>\n",
       "      <th>Age on Day 3-postCLNZ</th>\n",
       "    </tr>\n",
       "  </thead>\n",
       "  <tbody>\n",
       "    <tr>\n",
       "      <th>3</th>\n",
       "      <td>13-3</td>\n",
       "      <td>HET</td>\n",
       "      <td>F</td>\n",
       "      <td>15</td>\n",
       "      <td>31</td>\n",
       "      <td>3</td>\n",
       "      <td>11</td>\n",
       "      <td>15</td>\n",
       "      <td>13</td>\n",
       "      <td>4</td>\n",
       "      <td>2</td>\n",
       "      <td>11.0</td>\n",
       "      <td>21.0</td>\n",
       "      <td>0.0</td>\n",
       "      <td>7.0</td>\n",
       "      <td>106 days</td>\n",
       "      <td>107 days</td>\n",
       "      <td>120 days</td>\n",
       "    </tr>\n",
       "  </tbody>\n",
       "</table>\n",
       "</div>"
      ],
      "text/plain": [
       "  Mouse ID Geno Sex  IA_TTC_VEH  RS_TTC_VEH  IA_Errors_VEH  RS_Errors_VEH  \\\n",
       "3     13-3  HET   F          15          31              3             11   \n",
       "\n",
       "   IA_TTC_CLNZ  RS_TTC_CLNZ  IA_Errors_CLNZ  RS_Errors_CLNZ  IA_TTC_postCLNZ  \\\n",
       "3           15           13               4               2             11.0   \n",
       "\n",
       "   RS_TTC_postCLNZ  IA_Errors_postCLNZ  RS_Errors_postCLNZ Age on Day 1-VEH  \\\n",
       "3             21.0                 0.0                 7.0         106 days   \n",
       "\n",
       "  Age on Day 2-CLNZ Age on Day 3-postCLNZ  \n",
       "3          107 days              120 days  "
      ]
     },
     "execution_count": 23,
     "metadata": {},
     "output_type": "execute_result"
    }
   ],
   "source": [
    "dataset_xls = pd.read_excel(data_location / \"2024_Dlx Inscopix_Task Performance.xlsx\", parse_dates = [2, 5,12,19], header = 0, dtype = str)\n",
    "date_cols = [e for e in dataset_xls.columns if 'Date' in e]\n",
    "dataset_xls = dataset_xls\n",
    "dataset_xls['Age on Day 1-VEH'] = dataset_xls['Date run - VEH']- dataset_xls['DOB']\n",
    "dataset_xls['Age on Day 2-CLNZ'] = dataset_xls['Date run - CLZ']- dataset_xls['DOB']\n",
    "dataset_xls['Age on Day 3-postCLNZ'] = dataset_xls['Date run - POST']- dataset_xls['DOB']\n",
    "##set param cols\n",
    "str_to_drop = [\"Cells\", \"DOB\", \"Date\", \">\", \"<\", 'Age-Run1']\n",
    "numeric_cols_flag = [\"IA\", \"RS\", \"Cells\"]\n",
    "metadata_col = [e for e in dataset_xls.columns if any(match_str in e for match_str in str_to_drop)] #return iterable element of dataset columns if said column contains any relevant substrign within the list of strings I include\n",
    "print(metadata_col)\n",
    "metadata_df = dataset_xls[metadata_col]\n",
    "dataset_xls.drop(labels =metadata_col,axis = 1, inplace = True)\n",
    "dataset_xls.replace(to_replace = \"?\", value = np.nan, inplace = True)\n",
    "numeric_cols = [col for col in dataset_xls.columns if any(match_s in col for match_s in numeric_cols_flag)]\n",
    "ID_cols = [col for col in dataset_xls.columns if any(match_str in col for match_str in ['ID', 'Geno', 'elapsed', 'Sex'])]\n",
    "behav_cols =  [col for col in dataset_xls.columns if col not in ID_cols]\n",
    "dataset_xls[numeric_cols] =dataset_xls[numeric_cols].apply(pd.to_numeric)\n",
    "dataset_xls.sample()"
   ]
  },
  {
   "cell_type": "markdown",
   "metadata": {
    "id": "iXsB3jZMzTdG"
   },
   "source": [
    "import behavior df with info on perserverative vs random errors:"
   ]
  },
  {
   "cell_type": "code",
   "execution_count": 24,
   "metadata": {
    "colab": {
     "base_uri": "https://localhost:8080/",
     "height": 1000
    },
    "id": "WdMXZYqUzXfb",
    "outputId": "61a0ffc3-412b-40d2-e910-2c715b904052"
   },
   "outputs": [
    {
     "name": "stdout",
     "output_type": "stream",
     "text": [
      "['Het VEH' 'WT VEH' 'Het CLNZ' 'WT CLNZ' 'Het postCLNZ']\n"
     ]
    },
    {
     "data": {
      "text/html": [
       "<div>\n",
       "<style scoped>\n",
       "    .dataframe tbody tr th:only-of-type {\n",
       "        vertical-align: middle;\n",
       "    }\n",
       "\n",
       "    .dataframe tbody tr th {\n",
       "        vertical-align: top;\n",
       "    }\n",
       "\n",
       "    .dataframe thead th {\n",
       "        text-align: right;\n",
       "    }\n",
       "</style>\n",
       "<table border=\"1\" class=\"dataframe\">\n",
       "  <thead>\n",
       "    <tr style=\"text-align: right;\">\n",
       "      <th></th>\n",
       "      <th>Mouse ID</th>\n",
       "      <th>Geno</th>\n",
       "      <th>Sex</th>\n",
       "      <th>Performance</th>\n",
       "      <th>measure</th>\n",
       "      <th>day</th>\n",
       "      <th>data_type</th>\n",
       "      <th>rule</th>\n",
       "      <th>geno_day</th>\n",
       "    </tr>\n",
       "  </thead>\n",
       "  <tbody>\n",
       "    <tr>\n",
       "      <th>143</th>\n",
       "      <td>9-3</td>\n",
       "      <td>HET</td>\n",
       "      <td>F</td>\n",
       "      <td>Random_Error</td>\n",
       "      <td>1.0</td>\n",
       "      <td>postCLNZ</td>\n",
       "      <td>Error</td>\n",
       "      <td>Random</td>\n",
       "      <td>Het postCLNZ</td>\n",
       "    </tr>\n",
       "    <tr>\n",
       "      <th>144</th>\n",
       "      <td>13-3</td>\n",
       "      <td>HET</td>\n",
       "      <td>F</td>\n",
       "      <td>Random_Error</td>\n",
       "      <td>0.0</td>\n",
       "      <td>postCLNZ</td>\n",
       "      <td>Error</td>\n",
       "      <td>Random</td>\n",
       "      <td>Het postCLNZ</td>\n",
       "    </tr>\n",
       "    <tr>\n",
       "      <th>145</th>\n",
       "      <td>13-5</td>\n",
       "      <td>HET</td>\n",
       "      <td>M</td>\n",
       "      <td>Random_Error</td>\n",
       "      <td>0.0</td>\n",
       "      <td>postCLNZ</td>\n",
       "      <td>Error</td>\n",
       "      <td>Random</td>\n",
       "      <td>Het postCLNZ</td>\n",
       "    </tr>\n",
       "    <tr>\n",
       "      <th>146</th>\n",
       "      <td>13-8</td>\n",
       "      <td>HET</td>\n",
       "      <td>M</td>\n",
       "      <td>Random_Error</td>\n",
       "      <td>0.0</td>\n",
       "      <td>postCLNZ</td>\n",
       "      <td>Error</td>\n",
       "      <td>Random</td>\n",
       "      <td>Het postCLNZ</td>\n",
       "    </tr>\n",
       "    <tr>\n",
       "      <th>147</th>\n",
       "      <td>15-1</td>\n",
       "      <td>HET</td>\n",
       "      <td>M</td>\n",
       "      <td>Random_Error</td>\n",
       "      <td>1.0</td>\n",
       "      <td>postCLNZ</td>\n",
       "      <td>Error</td>\n",
       "      <td>Random</td>\n",
       "      <td>Het postCLNZ</td>\n",
       "    </tr>\n",
       "  </tbody>\n",
       "</table>\n",
       "</div>"
      ],
      "text/plain": [
       "    Mouse ID Geno Sex   Performance  measure       day data_type    rule  \\\n",
       "143      9-3  HET   F  Random_Error      1.0  postCLNZ     Error  Random   \n",
       "144     13-3  HET   F  Random_Error      0.0  postCLNZ     Error  Random   \n",
       "145     13-5  HET   M  Random_Error      0.0  postCLNZ     Error  Random   \n",
       "146     13-8  HET   M  Random_Error      0.0  postCLNZ     Error  Random   \n",
       "147     15-1  HET   M  Random_Error      1.0  postCLNZ     Error  Random   \n",
       "\n",
       "         geno_day  \n",
       "143  Het postCLNZ  \n",
       "144  Het postCLNZ  \n",
       "145  Het postCLNZ  \n",
       "146  Het postCLNZ  \n",
       "147  Het postCLNZ  "
      ]
     },
     "execution_count": 24,
     "metadata": {},
     "output_type": "execute_result"
    }
   ],
   "source": [
    "behav_detail_csv = 'Inscopix Mice Rules and Error types by session.xlsx'\n",
    "behav_detail = pd.read_excel(data_location / behav_detail_csv, header = 0)\n",
    "## merge\n",
    "behavior_details_df = dataset_xls.merge(behav_detail.loc[:, ['Mouse ID'] + [x for x in behav_detail.columns if \"Error\" in x]], how = 'left', on = 'Mouse ID').drop([x for x in dataset_xls.columns if \"Age\" in x],axis = 1)\n",
    "behav_long = behavior_details_df.melt(id_vars = ID_cols, var_name = 'Performance', value_name = 'measure').dropna(subset = 'measure')\n",
    "## add description cols\n",
    "behav_long['day']= behav_long.Performance.str.rpartition(\"_\")[2] #get treatment_suffix\n",
    "behav_long['data_type']=behav_long.Performance.str.split(\"_\").str.get(1) #get measure_type\n",
    "behav_long['Performance']=behav_long.Performance.str.rpartition(\"_\")[0] #get rule + measure_type\n",
    "behav_long['rule'] = behav_long.Performance.str.split(\"_\").str.get(0) #get rule_prefix\n",
    "behav_long['geno_day']= behav_long['Geno'].str.cat(behav_long['day'], sep = '_') .map({o:n for o,n in zip([\"WT_VEH\", \"WT_CLNZ\", \"HET_VEH\", \"HET_CLNZ\", \"HET_postCLNZ\"], geno_order_w_WT_CLNZ)})#clean up rough concat. with established label types\n",
    "behav_long = behav_long.dropna().reset_index().drop('index', axis = 1)\n",
    "print(behav_long.geno_day.unique())\n",
    "behav_long.tail()"
   ]
  },
  {
   "cell_type": "markdown",
   "metadata": {
    "id": "_hlKtVyEhcP6"
   },
   "source": [
    "#### Figure 1 I, J, K: IA and RS trials to completion, and perseverative errors "
   ]
  },
  {
   "cell_type": "code",
   "execution_count": 25,
   "metadata": {
    "colab": {
     "base_uri": "https://localhost:8080/",
     "height": 332
    },
    "id": "X55LVu-zkLSZ",
    "outputId": "29d19a4c-0744-4405-84c8-257973bb9eb2"
   },
   "outputs": [
    {
     "name": "stdout",
     "output_type": "stream",
     "text": [
      "With axis variable == Hue variable:\n",
      "With axis variable == Hue variable:\n"
     ]
    },
    {
     "ename": "NameError",
     "evalue": "name 'annotator_default' is not defined",
     "output_type": "error",
     "traceback": [
      "\u001b[1;31m---------------------------------------------------------------------------\u001b[0m",
      "\u001b[1;31mNameError\u001b[0m                                 Traceback (most recent call last)",
      "Cell \u001b[1;32mIn[25], line 27\u001b[0m\n\u001b[0;32m     25\u001b[0m \u001b[38;5;66;03m#posthoc df- on stripplot\u001b[39;00m\n\u001b[0;32m     26\u001b[0m posthoc_df \u001b[38;5;241m=\u001b[39m ppt\u001b[38;5;241m.\u001b[39mannotate(plot_ax, plot_params, sc, pairs_to_compare, test_name \u001b[38;5;241m=\u001b[39m \u001b[38;5;124m'\u001b[39m\u001b[38;5;124mMWU\u001b[39m\u001b[38;5;124m'\u001b[39m,ax_var_is_hue\u001b[38;5;241m=\u001b[39m\u001b[38;5;28;01mTrue\u001b[39;00m, detect_error_bar \u001b[38;5;241m=\u001b[39m \u001b[38;5;28;01mFalse\u001b[39;00m, plot_type \u001b[38;5;241m=\u001b[39m \u001b[38;5;124m'\u001b[39m\u001b[38;5;124mstripplot\u001b[39m\u001b[38;5;124m'\u001b[39m)\n\u001b[1;32m---> 27\u001b[0m ppt\u001b[38;5;241m.\u001b[39mplot_significance(plot_ax, posthoc_df[posthoc_df[\u001b[38;5;124m'\u001b[39m\u001b[38;5;124mpvalue\u001b[39m\u001b[38;5;124m'\u001b[39m] \u001b[38;5;241m<\u001b[39m \u001b[38;5;241m0.05\u001b[39m], tight_offset \u001b[38;5;241m=\u001b[39m \u001b[38;5;241m0.06\u001b[39m,offset_constant \u001b[38;5;241m=\u001b[39m \u001b[38;5;241m0.01\u001b[39m,debug \u001b[38;5;241m=\u001b[39m \u001b[38;5;28;01mFalse\u001b[39;00m) \u001b[38;5;66;03m#default_star_bbox_size = 0.045 #in ax fraction, determined empirically\u001b[39;00m\n\u001b[0;32m     28\u001b[0m behav_posthoc_list\u001b[38;5;241m.\u001b[39mappend(posthoc_df\u001b[38;5;241m.\u001b[39massign(numeric_var\u001b[38;5;241m=\u001b[39mcol_elem))\u001b[38;5;66;03m#store posthoc comparison\u001b[39;00m\n\u001b[0;32m     29\u001b[0m set_ax_title_xlabel_ylabel(plot_ax, {\u001b[38;5;124m'\u001b[39m\u001b[38;5;124mxlabel\u001b[39m\u001b[38;5;124m'\u001b[39m:  \u001b[38;5;28;01mNone\u001b[39;00m,})\n",
      "File \u001b[1;32m~\\Dropbox\\local_github_repos_personal\\plot_posthoc_test\\src\\plot_posthoc_test\\plot_stat_annotate.py:199\u001b[0m, in \u001b[0;36mplot_sig_bars_w_comp_df_tight\u001b[1;34m(ax_input, sig_comp_df, direction_to_plot, tight, tight_offset, offset_constant, align, debug)\u001b[0m\n\u001b[0;32m    197\u001b[0m text_y \u001b[38;5;241m=\u001b[39m y_vals[\u001b[38;5;241m1\u001b[39m] \u001b[38;5;241m+\u001b[39m star_space_to_line \u001b[38;5;66;03m#what linear amount to separate star from line, in AX FRACTION AMOUNT \u001b[39;00m\n\u001b[0;32m    198\u001b[0m \u001b[38;5;66;03m#plot annot line over pair \u001b[39;00m\n\u001b[1;32m--> 199\u001b[0m ax_input\u001b[38;5;241m.\u001b[39mplot(x_vals, y_vals, lw\u001b[38;5;241m=\u001b[39mannotator_default[\u001b[38;5;124m'\u001b[39m\u001b[38;5;124mline_width\u001b[39m\u001b[38;5;124m'\u001b[39m], color \u001b[38;5;241m=\u001b[39m \u001b[38;5;124m'\u001b[39m\u001b[38;5;124mblack\u001b[39m\u001b[38;5;124m'\u001b[39m,transform \u001b[38;5;241m=\u001b[39m trans, clip_on \u001b[38;5;241m=\u001b[39m \u001b[38;5;28;01mFalse\u001b[39;00m)\n\u001b[0;32m    200\u001b[0m \u001b[38;5;66;03m#plot sig star over line\u001b[39;00m\n\u001b[0;32m    201\u001b[0m star_str \u001b[38;5;241m=\u001b[39m convert_pvalue_to_asterisks(comp\u001b[38;5;241m.\u001b[39mpvalue)\n",
      "\u001b[1;31mNameError\u001b[0m: name 'annotator_default' is not defined"
     ]
    },
    {
     "data": {
      "image/png": "[encoded data removed]",
      "text/plain": [
       "<Figure size 862.5x225 with 3 Axes>"
      ]
     },
     "metadata": {},
     "output_type": "display_data"
    }
   ],
   "source": [
    "#parameters for figures\n",
    "col_iter = ['IA_TTC', 'RS_TTC', 'Perseverative_Error']\n",
    "titles = [\"IA Performance\", \"RS Performance\", \"# Perseverative Errors\"]\n",
    "ylabels = ['# Trials to Complete', '# Trials to Complete', '# Errors']\n",
    "plot_range_limit = {\"IA_TTC\": 20, \"RS_TTC\": 45, \"Perseverative_Error\": 17}\n",
    "pairs_to_compare = [('WT VEH',  'Het VEH'),('WT VEH', 'WT CLNZ'), ('WT CLNZ',  'Het VEH'),  ('Het VEH', 'Het CLNZ'), ('Het VEH', 'Het postCLNZ')]\n",
    "## Figure creation code \n",
    "fig, ax = plt.subplots(1, len(col_iter), figsize = (5.75,1.5), layout = 'constrained', gridspec_kw = {'wspace': 0.01})\n",
    "behav_posthoc_list = []\n",
    "## loop over all comparisons\n",
    "for col_count, col_elem in enumerate(col_iter):## iterate over data types\n",
    "    plot_mask = (behav_long['Performance'] == col_elem)\n",
    "    plot_ax = ax[col_count]\n",
    "    plot_params = {'data':behav_long.loc[plot_mask,:], 'x':'geno_day', 'y':'measure', 'order': geno_order_w_WT_CLNZ,\n",
    "                   'hue':'geno_day', 'hue_order':geno_order_w_WT_CLNZ,'palette': color_list_WT_CLNZ,}\n",
    "    sc = sns.barplot(ax = plot_ax, dodge = False,**plot_params, errorbar=None, linewidth = 1, alpha=0.25) \n",
    "    ax_title = f\"{titles[col_count]}\"\n",
    "    set_ax_title_xlabel_ylabel(plot_ax, {'title': ax_title, 'legend_false': True, 'ylabel': f\"{ylabels[col_count]}\", 'xlim': [None, None],'ylim':[0, plot_range_limit[col_elem]], })\n",
    "    #alter axis x ticks\n",
    "    plot_ax.set_xticks(plot_ax.get_xticks());\n",
    "    plot_ax.yaxis.get_major_locator().set_params(integer=True)\n",
    "    ##NEW- plot scatter over\n",
    "    sc = sns.stripplot(ax = plot_ax, dodge = False,**plot_params, alpha=0.75, s = 3,legend=False) \n",
    "    set_pointplot_edgecolor(plot_ax, edge_color = 'black', linewidth = marker_edge_width)\n",
    "    #posthoc df- on stripplot\n",
    "    posthoc_df = ppt.annotate(plot_ax, plot_params, sc, pairs_to_compare, test_name = 'MWU',ax_var_is_hue=True, detect_error_bar = False, plot_type = 'stripplot')\n",
    "    ppt.plot_significance(plot_ax, posthoc_df[posthoc_df['pvalue'] < 0.05], tight_offset = 0.06,offset_constant = 0.01,debug = False) #default_star_bbox_size = 0.045 #in ax fraction, determined empirically\n",
    "    behav_posthoc_list.append(posthoc_df.assign(numeric_var=col_elem))#store posthoc comparison\n",
    "    set_ax_title_xlabel_ylabel(plot_ax, {'xlabel':  None,})\n",
    "    plot_ax.set_xticklabels([x.get_text().replace(\" \", \"\\n\") for x in plot_ax.get_xticklabels()])\n",
    "    #save each sub component as own CSV\n",
    "#save figs "
   ]
  }
 ],
 "metadata": {
  "colab": {
   "provenance": []
  },
  "kernelspec": {
   "display_name": "local_colab",
   "language": "python",
   "name": "python3"
  },
  "language_info": {
   "codemirror_mode": {
    "name": "ipython",
    "version": 3
   },
   "file_extension": ".py",
   "mimetype": "text/x-python",
   "name": "python",
   "nbconvert_exporter": "python",
   "pygments_lexer": "ipython3",
   "version": "3.12.9"
  }
 },
 "nbformat": 4,
 "nbformat_minor": 4
}
